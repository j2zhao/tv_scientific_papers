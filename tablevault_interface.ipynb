{
 "cells": [
  {
   "cell_type": "code",
   "execution_count": 1,
   "id": "d5af5c2d-ade6-4156-a322-916f40c44e61",
   "metadata": {},
   "outputs": [],
   "source": [
    "from tablevault.core import TableVault"
   ]
  },
  {
   "cell_type": "markdown",
   "id": "60914e2f-292f-40ba-b5d2-b723ddfa63bb",
   "metadata": {
    "jp-MarkdownHeadingCollapsed": true
   },
   "source": [
    "# Create Vault"
   ]
  },
  {
   "cell_type": "code",
   "execution_count": null,
   "id": "2de6e200-4333-40f3-8229-49df8d5a0b14",
   "metadata": {},
   "outputs": [],
   "source": []
  },
  {
   "cell_type": "code",
   "execution_count": 23,
   "id": "79d0ed28-1d6e-4d6e-b224-b85f7a8171b8",
   "metadata": {},
   "outputs": [],
   "source": [
    "tablevault = TableVault(\"science-tables\", \"jinjin\", create=True)"
   ]
  },
  {
   "cell_type": "code",
   "execution_count": 24,
   "id": "89f1ac6d-ff76-458b-9630-c2906c3ae4f7",
   "metadata": {},
   "outputs": [
    {
     "name": "stderr",
     "output_type": "stream",
     "text": [
      "INFO:tablevault._operations._meta_operations:Start execution setup_table: a00b99a2-ef11-43ea-99ac-73dea8884d54\n",
      "INFO:tablevault._operations._meta_operations:Start execution setup_table_inner: a00b99a2-ef11-43ea-99ac-73dea8884d54_bb243b8b-3f4b-4b5b-8443-ee6bdd2f47b9\n",
      "INFO:tablevault.helper.metadata_store:Completed setup_table_inner: a00b99a2-ef11-43ea-99ac-73dea8884d54_bb243b8b-3f4b-4b5b-8443-ee6bdd2f47b9\n",
      "INFO:tablevault.helper.metadata_store:Completed setup_table: a00b99a2-ef11-43ea-99ac-73dea8884d54\n"
     ]
    },
    {
     "data": {
      "text/plain": [
       "'a00b99a2-ef11-43ea-99ac-73dea8884d54'"
      ]
     },
     "execution_count": 24,
     "metadata": {},
     "output_type": "execute_result"
    }
   ],
   "source": [
    "tablevault.setup_table(\"google_scholar_journals\")"
   ]
  },
  {
   "cell_type": "code",
   "execution_count": 25,
   "id": "f1a240cd-0597-4f1f-bf08-271b77a7a9ac",
   "metadata": {},
   "outputs": [
    {
     "name": "stderr",
     "output_type": "stream",
     "text": [
      "INFO:tablevault._operations._meta_operations:Start execution copy_files: b48ad3e8-27a6-4be8-a375-6614f0f0c684\n",
      "INFO:tablevault.helper.metadata_store:Completed copy_files: b48ad3e8-27a6-4be8-a375-6614f0f0c684\n"
     ]
    },
    {
     "data": {
      "text/plain": [
       "'b48ad3e8-27a6-4be8-a375-6614f0f0c684'"
      ]
     },
     "execution_count": 25,
     "metadata": {},
     "output_type": "execute_result"
    }
   ],
   "source": [
    "tablevault.copy_files(\"tv_specifications/PAPER_google_scholar_journals\", \"google_scholar_journals\")"
   ]
  },
  {
   "cell_type": "code",
   "execution_count": 26,
   "id": "d4484857-ba0f-429e-b1c9-d32fcb9ba92a",
   "metadata": {},
   "outputs": [
    {
     "name": "stderr",
     "output_type": "stream",
     "text": [
      "INFO:tablevault._operations._meta_operations:Start execution setup_temp_instance: 94421db8-2918-4fe9-b5b8-ad5ada3804c3\n",
      "INFO:tablevault._operations._meta_operations:Start execution setup_temp_instance_inner: 94421db8-2918-4fe9-b5b8-ad5ada3804c3_7fe0db52-d658-44a7-acb1-65421df9ef65\n",
      "INFO:tablevault.helper.metadata_store:Completed setup_temp_instance_inner: 94421db8-2918-4fe9-b5b8-ad5ada3804c3_7fe0db52-d658-44a7-acb1-65421df9ef65\n",
      "INFO:tablevault._operations._meta_operations:Start execution execute_instance: 94421db8-2918-4fe9-b5b8-ad5ada3804c3_2aa149cd-f158-4522-933f-dc14e76e01d2\n",
      "INFO:tablevault._operations._meta_operations:Start execution execute_instance_inner: 94421db8-2918-4fe9-b5b8-ad5ada3804c3_2aa149cd-f158-4522-933f-dc14e76e01d2_f75e6d2e-623f-4cab-9284-7349b9f19b27\n",
      "INFO:tablevault.helper.metadata_store:Completed execute_instance_inner: 94421db8-2918-4fe9-b5b8-ad5ada3804c3_2aa149cd-f158-4522-933f-dc14e76e01d2_f75e6d2e-623f-4cab-9284-7349b9f19b27\n",
      "INFO:tablevault._operations._meta_operations:Start execution materialize_instance: 94421db8-2918-4fe9-b5b8-ad5ada3804c3_2aa149cd-f158-4522-933f-dc14e76e01d2_705f07c7-c256-420f-b8a0-5df19053e369\n",
      "INFO:tablevault.helper.metadata_store:Completed materialize_instance: 94421db8-2918-4fe9-b5b8-ad5ada3804c3_2aa149cd-f158-4522-933f-dc14e76e01d2_705f07c7-c256-420f-b8a0-5df19053e369\n",
      "INFO:tablevault.helper.metadata_store:Completed execute_instance: 94421db8-2918-4fe9-b5b8-ad5ada3804c3_2aa149cd-f158-4522-933f-dc14e76e01d2\n",
      "INFO:tablevault.helper.metadata_store:Completed setup_temp_instance: 94421db8-2918-4fe9-b5b8-ad5ada3804c3\n"
     ]
    },
    {
     "data": {
      "text/plain": [
       "'94421db8-2918-4fe9-b5b8-ad5ada3804c3'"
      ]
     },
     "execution_count": 26,
     "metadata": {},
     "output_type": "execute_result"
    }
   ],
   "source": [
    "tablevault.setup_temp_instance(\"google_scholar_journals\", builder_names=[\"gen_google_scholar_journals\"], execute=True)"
   ]
  },
  {
   "cell_type": "code",
   "execution_count": 27,
   "id": "c7fbfeb5-8b7c-43e0-bab9-b21998fcb557",
   "metadata": {},
   "outputs": [
    {
     "name": "stderr",
     "output_type": "stream",
     "text": [
      "INFO:tablevault._operations._meta_operations:Start execution copy_files: 11c25bcf-0b0e-42cd-91ee-2e0454f92c1c\n",
      "INFO:tablevault.helper.metadata_store:Completed copy_files: 11c25bcf-0b0e-42cd-91ee-2e0454f92c1c\n"
     ]
    },
    {
     "data": {
      "text/plain": [
       "'11c25bcf-0b0e-42cd-91ee-2e0454f92c1c'"
      ]
     },
     "execution_count": 27,
     "metadata": {},
     "output_type": "execute_result"
    }
   ],
   "source": [
    "tablevault.copy_files(\"code_functions\")"
   ]
  },
  {
   "cell_type": "markdown",
   "id": "4530c7ea-91f1-40b2-ad2a-492ae18c9e47",
   "metadata": {},
   "source": [
    "# Restart Vault"
   ]
  },
  {
   "cell_type": "code",
   "execution_count": null,
   "id": "bfb35d8a-0f3f-446b-a51d-086de6c1538d",
   "metadata": {},
   "outputs": [],
   "source": [
    "tablevault.setup_table(\"\")"
   ]
  }
 ],
 "metadata": {
  "kernelspec": {
   "display_name": "Python 3 (ipykernel)",
   "language": "python",
   "name": "python3"
  },
  "language_info": {
   "codemirror_mode": {
    "name": "ipython",
    "version": 3
   },
   "file_extension": ".py",
   "mimetype": "text/x-python",
   "name": "python",
   "nbconvert_exporter": "python",
   "pygments_lexer": "ipython3",
   "version": "3.13.2"
  }
 },
 "nbformat": 4,
 "nbformat_minor": 5
}
